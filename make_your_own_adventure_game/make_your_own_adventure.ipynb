{
  "nbformat": 4,
  "nbformat_minor": 0,
  "metadata": {
    "colab": {
      "provenance": [],
      "authorship_tag": "ABX9TyP+trsmcHjm/yKrCp9HvpmI",
      "include_colab_link": true
    },
    "kernelspec": {
      "name": "python3",
      "display_name": "Python 3"
    },
    "language_info": {
      "name": "python"
    }
  },
  "cells": [
    {
      "cell_type": "markdown",
      "metadata": {
        "id": "view-in-github",
        "colab_type": "text"
      },
      "source": [
        "<a href=\"https://colab.research.google.com/github/Ayushkapil/Python_Randoms/blob/main/make_your_own_adventure_game/make_your_own_adventure.ipynb\" target=\"_parent\"><img src=\"https://colab.research.google.com/assets/colab-badge.svg\" alt=\"Open In Colab\"/></a>"
      ]
    },
    {
      "cell_type": "code",
      "execution_count": 6,
      "metadata": {
        "colab": {
          "base_uri": "https://localhost:8080/"
        },
        "id": "KE-pPalVr42X",
        "outputId": "8df8a7d2-d84b-49b1-c7e9-c6f7ad80c7d3"
      },
      "outputs": [
        {
          "output_type": "stream",
          "name": "stdout",
          "text": [
            "Type your name: Ayush\n",
            "Welcome Ayush to this adventure!\n",
            "You are on a dirt road, and it has come to an end. You can go left, right, or straight. Which way would you like to go? right\n",
            "You come across a dense forest. Do you enter the forest or try to go around it? Type 'enter' or 'around': around\n",
            "You decide to go around the forest.\n",
            "As you circumnavigate the forest, you stumble upon a hidden cave. Inside, you find a magical artifact that grants you extraordinary powers!\n",
            "Congratulations,  Ayush ! You WIN!\n",
            "Thank you for playing,  Ayush !\n"
          ]
        }
      ],
      "source": [
        "name = input(\"Type your name: \")\n",
        "print(\"Welcome\", name, \"to this adventure!\")\n",
        "\n",
        "answer = input(\"You are on a dirt road, and it has come to an end. You can go left, right, or straight. Which way would you like to go? \").lower()\n",
        "\n",
        "if answer == \"left\":\n",
        "    answer = input(\"You come to a river. Do you swim across, build a boat, or find another way around? Type 'swim', 'boat', or 'around': \")\n",
        "\n",
        "    if answer == \"swim\":\n",
        "        print(\"You swim across and reach the other side safely.\")\n",
        "        # Add more adventures after crossing the river\n",
        "        print(\"You continue your journey and stumble upon a hidden treasure chest. You open it and find valuable jewels!\")\n",
        "        print(\"Congratulations, \", name, \"! You WIN!\")\n",
        "    elif answer == \"boat\":\n",
        "        print(\"You build a sturdy boat and navigate the river successfully.\")\n",
        "        # Add more adventures after crossing the river by boat\n",
        "        print(\"As you sail downstream, you spot a group of friendly dolphins swimming alongside your boat. They guide you to a beautiful island!\")\n",
        "        print(\"Congratulations, \", name, \"! You WIN!\")\n",
        "    elif answer == \"around\":\n",
        "        print(\"You decide to find another way around the river.\")\n",
        "        # Add more adventures after finding another way around the river\n",
        "        print(\"After a long detour, you discover a hidden path that leads to a magical forest. You encounter mystical creatures and have amazing adventures!\")\n",
        "        print(\"Congratulations, \", name, \"! You WIN!\")\n",
        "    else:\n",
        "        print(\"Not a valid option. You lose.\")\n",
        "\n",
        "elif answer == \"right\":\n",
        "    answer = input(\"You come across a dense forest. Do you enter the forest or try to go around it? Type 'enter' or 'around': \")\n",
        "\n",
        "    if answer == \"enter\":\n",
        "        print(\"You enter the forest and encounter a pack of wolves. They chase you away.\")\n",
        "        # Add more adventures after encountering the wolves\n",
        "        print(\"You manage to escape the wolves but get lost in the forest. It takes you days to find your way out, and by the time you do, you're exhausted.\")\n",
        "        print(\"Unfortunately, you lose, \", name, \". Better luck next time!\")\n",
        "    elif answer == \"around\":\n",
        "        print(\"You decide to go around the forest.\")\n",
        "        # Add more adventures after going around the forest\n",
        "        print(\"As you circumnavigate the forest, you stumble upon a hidden cave. Inside, you find a magical artifact that grants you extraordinary powers!\")\n",
        "        print(\"Congratulations, \", name, \"! You WIN!\")\n",
        "    else:\n",
        "        print(\"Not a valid option. You lose.\")\n",
        "\n",
        "elif answer == \"straight\":\n",
        "    print(\"You choose to go straight ahead and come across a vast desert.\")\n",
        "    # Add more adventures in the desert\n",
        "    print(\"After a long and arduous journey through the scorching desert, you discover an ancient oasis. You rest, quench your thirst, and continue with renewed energy!\")\n",
        "    print(\"Congratulations, \", name, \"! You WIN!\")\n",
        "\n",
        "else:\n",
        "    print(\"Not a valid option. You lose.\")\n",
        "\n",
        "print(\"Thank you for playing, \", name, \"!\")\n",
        "\n"
      ]
    }
  ]
}